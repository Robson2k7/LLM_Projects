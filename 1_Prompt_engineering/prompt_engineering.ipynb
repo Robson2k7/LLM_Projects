{
 "cells": [
  {
   "cell_type": "markdown",
   "metadata": {},
   "source": [
    "# Prompt Engineering\n",
    "\n",
    "Wykorzystuję:\n",
    "- OpenAI API\n",
    "- Groq API\n",
    "- lokalny LLM poprzez LM Studio\n",
    "\n",
    "## 1. Najważniejsze techniki tworzenia promptów.\n",
    "\n",
    "### Zero-Shot Prompting:\n",
    "\n",
    "Model dostaje tylko jedno zapytanie bez żadnych przykładów i musi samodzielnie wygenerować odpowiedź.\n",
    "\n"
   ]
  },
  {
   "cell_type": "code",
   "execution_count": 4,
   "metadata": {},
   "outputs": [],
   "source": [
    "# Import potrzebnych bibliotek\n",
    "\n",
    "from openai import OpenAI\n",
    "from groq import Groq\n",
    "import requests"
   ]
  },
  {
   "cell_type": "code",
   "execution_count": 5,
   "metadata": {},
   "outputs": [],
   "source": [
    "# Pobranie kluczy API ze zmiennych środowiskowych\n",
    "\n",
    "client_openai = OpenAI()\n",
    "client_groq = Groq()"
   ]
  },
  {
   "cell_type": "code",
   "execution_count": 4,
   "metadata": {},
   "outputs": [],
   "source": [
    "# Prosty prompt do dowolnej edycji\n",
    "# Można użyć prompt = input(\"Zadaj pytanie: \") by móc wprowadzić dowolne zapytanie\n",
    "# bez konieczności edycji kodu\n",
    "\n",
    "prompt = \"Czym jest sztuczna inteligencja?\""
   ]
  },
  {
   "cell_type": "code",
   "execution_count": 5,
   "metadata": {},
   "outputs": [],
   "source": [
    "# OpenAI API\n",
    "\n",
    "response_openai = client_openai.chat.completions.create(\n",
    "    model=\"gpt-4o\",   # należy wpisać nazwę wybranego modelu\n",
    "    messages=[{\"role\": \"user\", \"content\": prompt}]\n",
    ")"
   ]
  },
  {
   "cell_type": "code",
   "execution_count": 6,
   "metadata": {},
   "outputs": [],
   "source": [
    "# Groq API\n",
    "\n",
    "response_groq = client_groq.chat.completions.create(\n",
    "    model=\"mixtral-8x7b-32768\",  # należy wpisać nazwę wybranego modelu\n",
    "    messages=[{\"role\": \"user\", \"content\": prompt}]\n",
    ")"
   ]
  },
  {
   "cell_type": "code",
   "execution_count": 7,
   "metadata": {},
   "outputs": [],
   "source": [
    "# Lokalny LLM - Lm Studio\n",
    "\n",
    "lm_studio_url = \"http://localhost:1234/v1/completions\"\n",
    "headers = {\"Content-Type\": \"application/json\"}\n",
    "data = {\n",
    "    \"model\": \"llama-2-7b\",      # należy wpisać nazwę wybranego modelu w LM Studio (lub local-model)\n",
    "    \"prompt\": prompt,\n",
    "    \"max_tokens\": 100           # ograniczenie do 100 tokenów\n",
    "}\n",
    "\n",
    "response_lms = requests.post(lm_studio_url, headers=headers, json=data).json()"
   ]
  },
  {
   "cell_type": "markdown",
   "metadata": {},
   "source": [
    "Porównanie wyników:"
   ]
  },
  {
   "cell_type": "code",
   "execution_count": 10,
   "metadata": {},
   "outputs": [
    {
     "name": "stdout",
     "output_type": "stream",
     "text": [
      "==================================================\n",
      "Odpowiedź OpenAI:\n",
      "\n",
      "Sztuczna inteligencja (SI) to dziedzina nauki i technologii zajmująca się tworzeniem systemów i programów komputerowych, które potrafią wykonywać zadania wymagające inteligencji ludzkiej. Zadania te mogą obejmować rozpoznawanie wzorców, podejmowanie decyzji, rozumienie języka naturalnego, uczenie się, planowanie czy rozwiązywanie problemów.\n",
      "\n",
      "Istnieje wiele podejść do tworzenia SI, ale najpopularniejsze z nich to uczenie maszynowe, które polega na tworzeniu modeli matematycznych na podstawie danych, oraz sieci neuronowe, które naśladują sposób, w jaki funkcjonuje ludzki mózg.\n",
      "\n",
      "Sztuczna inteligencja jest wykorzystywana w wielu dziedzinach, takich jak medycyna, motoryzacja, finansowość, przemysł czy rozrywka. Przykładami zastosowań SI są asystenci głosowi, systemy rekomendacji, autonomiczne pojazdy czy narzędzia do analizy danych.\n",
      "==================================================\n",
      "Odpowiedź Groq:\n",
      "\n",
      "Sztuczna inteligencja (   \n",
      "Artificial Intelligence, AI) to dziedzina informatyki i inżynierii, której celem jest tworzenie maszyn i systemów, zdolnych do analizowania i rozwiązywania zadań, które wymagają inteligencji, takich jak rozpoznawanie obrazów, przetwarzanie języka naturalnego, planowanie i podejmowanie decyzji. Sztuczna inteligencja integruje metody i techniki z wielu dziedzin, w tym matematyki, logiki, fizyki, inżynierii i kognitywistyki, aby stworzyć systemy, które mogą nauczyć się, ewaluować i zwiększać swoją wiedzę i umiejętności.\n",
      "\n",
      "Sztuczna inteligencja może być podzielona na dwie główne kategorie: sztuczna inteligencja słaba i sztuczna inteligencja silna. Sztuczna inteligencja słaba (narrow AI) odnosi się do systemów, które są zaprojektowane do wykonywania specyficznych i ograniczonych zadań, takich jak granie w szachy lub sterowanie samochodem bezpiecznie po trasie. Sztuczna inteligencja silna (strong AI) odnosi się do systemów, które mogą wykonywać wiele różnych zadań i mają zdolność do myślenia i działania na poziomie ludzkim.\n",
      "\n",
      "Sztuczna inteligencja znajduje zastosowanie w wielu obszarach, w tym w medycynie, finansach, przemyśle, rozrywce, edukacji i transportu. Przykłady zastosowań sztucznej inteligencji obejmują diagnozowanie nowotworów na podstawie obrazów medycznych, analizowanie wzorców rynkowych w celu przewidywania trendów finansowych, sterowanie fabrykami i zakładami produkcyjnymi, tworzenie asystentów wirtualnych do rozmów z ludźmi i samochodów bezpiecznych i autonomicznych.\n",
      "==================================================\n",
      "Odpowiedź LM Studio:\n",
      "\n",
      " Sztuka w tym sensie, zrozumiająca i umożliwiająca wykorzystanie inteligencji komputerskiej do podejmowania decyzji lub działań. \n",
      "\n",
      "Sztuczna inteligencja (do 2019) to różne pojeździenia inteligencji, w tym algebraiczny, geometryczny, symboliczny i obliczną.\n",
      "\n",
      "Młodsze pokolen\n",
      "==================================================\n"
     ]
    }
   ],
   "source": [
    "print(\"=\"*50)\n",
    "print(\"Odpowiedź OpenAI:\\n\")\n",
    "print(response_openai.choices[0].message.content)\n",
    "print(\"=\"*50)\n",
    "\n",
    "print(\"Odpowiedź Groq:\\n\")\n",
    "print(response_groq.choices[0].message.content)\n",
    "print(\"=\"*50)\n",
    "\n",
    "print(\"Odpowiedź LM Studio:\\n\")\n",
    "print(response_lms.get(\"choices\", [{}])[0].get(\"text\", \"No response\"))\n",
    "print(\"=\"*50)"
   ]
  },
  {
   "cell_type": "markdown",
   "metadata": {},
   "source": [
    "### Few-Shot Prompting:\n",
    "\n",
    "Model dostaje kilka przykładów poprawnych odpowiedzi, zanim przetworzy nowe zapytanie."
   ]
  },
  {
   "cell_type": "code",
   "execution_count": 13,
   "metadata": {},
   "outputs": [
    {
     "name": "stdout",
     "output_type": "stream",
     "text": [
      "Odpowiedź GPT-4o:\n",
      "  Supervised\n",
      "\n",
      "Sieci neuronowe mogą być używane zarówno w kontekście uczenia nadzorowanego, jak i nienadzorowanego, ale najczęściej kojarzone są z uczeniem nadzorowanym, zwłaszcza w kontekście takich zastosowań jak klasyfikacja obrazów czy przetwarzanie języka naturalnego.\n"
     ]
    }
   ],
   "source": [
    "prompt_2 = \"\"\"\n",
    "Klasyfikuj podane algorytmy uczenia maszynowego jako nadzorowane (Supervised), nienadzorowane (Unsupervised) lub ze wzmocnieniem (Reinforcement Learning).\n",
    "\n",
    "Przykłady:\n",
    "1. Algorytm: Drzewa decyzyjne → Supervised\n",
    "2. Algorytm: K-Means → Unsupervised\n",
    "3. Algorytm: Q-Learning → Reinforcement Learning\n",
    "4. Algorytm: Sieci neuronowe → \n",
    "\n",
    "Odpowiedź:\n",
    "\"\"\"\n",
    "\n",
    "# OpenAI API\n",
    "\n",
    "response_openai = client_openai.chat.completions.create(\n",
    "    model=\"gpt-4o\",   # należy wpisać nazwę wybranego modelu\n",
    "    messages=[{\"role\": \"user\", \"content\": prompt_2}]\n",
    ")\n",
    "\n",
    "print(\"Odpowiedź GPT-4o:\\n \", response_openai.choices[0].message.content)"
   ]
  },
  {
   "cell_type": "markdown",
   "metadata": {},
   "source": [
    "### Chain-of-Thought Prompting:\n",
    "\n",
    "Model jest instruowany, aby rozwiązać problem krok po kroku, wyjaśniając każdy etap."
   ]
  },
  {
   "cell_type": "code",
   "execution_count": 14,
   "metadata": {},
   "outputs": [
    {
     "name": "stdout",
     "output_type": "stream",
     "text": [
      "Odpowiedź GPT-4o:\n",
      "  Z przyjemnością wytłumaczę te pojęcia! Chociaż są one ze sobą powiązane, każdy z tych terminów odnosi się do nieco innego obszaru technologii i analizy danych.\n",
      "\n",
      "### Data Science (Nauka o Danych)\n",
      "1. **Definicja**: Data Science to dziedzina, która zajmuje się pozyskiwaniem, analizowaniem i interpretowaniem dużych zbiorów danych w celu uzyskania użytecznych informacji i przewidywań.\n",
      "\n",
      "2. **Procesy**:\n",
      "   - **Zbieranie danych**: Zbieranie danych z różnych źródeł, takich jak bazy danych, pliki tekstowe, API czy strony internetowe.\n",
      "   - **Czyszczenie danych**: Usuwanie zduplikowanych, błędnych lub niekompletnych danych, aby dane były spójne i użyteczne.\n",
      "   - **Analiza i eksploracja danych**: Analizowanie danych przy użyciu różnych metod statystycznych i wizualizacyjnych w celu odkrycia wzorców.\n",
      "   - **Modelowanie**: Tworzenie modeli statystycznych lub maszynowych w celu prognozowania przyszłych trendów lub wyników.\n",
      "   - **Wizualizacja danych**: Prezentacja wyników analizy w formie wykresów i diagramów, które są łatwe do zrozumienia.\n",
      "\n",
      "3. **Wynik**: Wyniki pracy Data Scientistów pomagają firmom i organizacjom podejmować lepsze decyzje na podstawie dostępnych danych.\n",
      "\n",
      "### Uczenie Maszynowe (Machine Learning)\n",
      "1. **Definicja**: Uczenie maszynowe to poddziedzina sztucznej inteligencji, która koncentruje się na tworzeniu algorytmów i modeli pozwalających komputerom na naukę i poprawę swoich działań na podstawie doświadczenia, bez konieczności szczegółowego programowania.\n",
      "\n",
      "2. **Typy uczenia się**:\n",
      "   - **Uczenie nadzorowane (Supervised Learning)**: Model uczony jest na podstawie oznakowanych danych wejściowych i wyjściowych, np. klasyfikacja zdjęć.\n",
      "   - **Uczenie nienadzorowane (Unsupervised Learning)**: Model analizuje dane bez etykiet, starając się znaleźć w nich wzorce i struktury, np. segmentacja klientów.\n",
      "   - **Uczenie przez wzmacnianie (Reinforcement Learning)**: Model uczy się poprzez interakcję z otoczeniem i otrzymywanie nagród za dobre decyzje, np. w grach komputerowych.\n",
      "\n",
      "3. **Zastosowania**: Filtry antyspamowe, analiza nastrojów, prognozowanie popytu, rozpoznawanie twarzy.\n",
      "\n",
      "### Sztuczna Inteligencja (AI) i GenAI\n",
      "1. **Definicja AI**: Sztuczna Inteligencja (AI) to szerokie pojęcie obejmujące technologię, która pozwala maszynom na wykazywanie inteligentnych zachowań, takich jak rozumowanie, uczenie się, poprawne działanie na podstawie danych i adaptacja do nowych sytuacji.\n",
      "\n",
      "2. **GenAI (Generatywna AI)**:\n",
      "   - **Definicja**: Generatywna AI to poddziedzina AI, która koncentruje się na tworzeniu modeli zdolnych do generowania nowych treści, jak np. obrazy, teksty, muzyka.\n",
      "   - **Modele Generatywne**: Przykłady to GAN (Generative Adversarial Networks) oraz modele transformatorowe, takie jak GPT, które generują teksty przypominające te tworzone przez ludzi.\n",
      "   - **Zastosowania**: Sztuka generowana przez AI, syntezowanie głosu, generowanie tekstu, poprawa jakości obrazu.\n",
      "\n",
      "Podsumowując, Data Science to analiza i interpretacja danych, Uczenie Maszynowe to techniki uczenia komputerów z danych, a AI i GenAI to szeroki zakres technologii i narzędzi pozwalających maszynom działać w sposób inteligentny, w tym tworzenie nowych treści. Wszystkie te dziedziny współpracują, aby przenieść analizę i przetwarzanie danych na nowy poziom efektywności i precyzji.\n"
     ]
    }
   ],
   "source": [
    "prompt_3 = \"\"\"\n",
    "Jesteś specjalistą Data Science, Machine Learning i AI z wieloletnim stażem.\n",
    "Wyjaśnij krok po kroku, osobie zupełnie początkującej, czym są:\n",
    "- Data Science\n",
    "- Uczenie Maszynowe\n",
    "- AI oraz GenAI\n",
    "\"\"\"\n",
    "\n",
    "# OpenAI API\n",
    "\n",
    "response_openai = client_openai.chat.completions.create(\n",
    "    model=\"gpt-4o\",   # należy wpisać nazwę wybranego modelu\n",
    "    messages=[{\"role\": \"user\", \"content\": prompt_3}]\n",
    ")\n",
    "\n",
    "print(\"Odpowiedź GPT-4o:\\n \", response_openai.choices[0].message.content)"
   ]
  },
  {
   "cell_type": "markdown",
   "metadata": {},
   "source": [
    "## 2. Clarification Prompting"
   ]
  },
  {
   "cell_type": "code",
   "execution_count": 23,
   "metadata": {},
   "outputs": [
    {
     "name": "stdout",
     "output_type": "stream",
     "text": [
      "1. Jakie są Twoje podstawowe umiejętności matematyczne i statystyczne? Czy masz doświadczenie w tych dziedzinach?\n",
      "2. Czy masz doświadczenie w programowaniu? Jeśli tak, to w jakim języku?\n",
      "3. Czy masz doświadczenie z jakimkolwiek konkretnym narzędziem lub technologią związaną z Data Science, takim jak Python, R, SQL, Hadoop, Spark itp.?\n",
      "4. Ile czasu możesz poświęcić na naukę w ciągu tygodnia?\n",
      "5. Czy masz jakieś konkretne cele lub obszary, na których chciałbyś się skupić podczas nauki Data Science?\n",
      "6. Czy preferujesz naukę samodzielną, czy może chciałbyś skorzystać z kursów online lub uczestniczyć w szkoleniach?\n",
      "7. Czy jesteś zainteresowany konkretnymi dziedzinami Data Science, takimi jak analiza danych, uczenie maszynowe, sztuczna inteligencja, wizualizacja danych itp.?\n",
      "8. Czy jesteś bardziej zainteresowany teorią czy praktycznym zastosowaniem Data Science?\n"
     ]
    }
   ],
   "source": [
    "# Zdefiniowanie funkcji promptu\n",
    "\n",
    "def chat_completion(prompt, model=\"gpt-4\", temperature=0):   # wyższa temperatura = bardziej kreatywna odpowiedź\n",
    "    res = client_openai.chat.completions.create(\n",
    "        model=model,\n",
    "        messages=[{\"role\": \"user\", \"content\": prompt}],\n",
    "        temperature=temperature\n",
    "    )\n",
    "    print(res.choices[0].message.content)\n",
    "\n",
    "prompt = \"\"\"\n",
    "Kontekst: jestem początkującym w dziedzinie Data Science.\n",
    "Staram się uczyć przynajmniej 3-4 razy w tygodniu.\n",
    "Zadanie: zaproponij mi plan nauki.\n",
    "Nie wykonuj tego zadania! Zamiast tego zadaj mi pytania dotyczące\n",
    "kontekstu, abyś po udzieleniu przeze mnie odpowiedzi mógł lepiej wykonać to zadanie.\n",
    "\"\"\"\n",
    "chat_completion(prompt)"
   ]
  },
  {
   "cell_type": "markdown",
   "metadata": {},
   "source": [
    "## 3. Persona-Based Prompting + Structured Prompting\n",
    "\n",
    "Generator wiadomości:"
   ]
  },
  {
   "cell_type": "code",
   "execution_count": 15,
   "metadata": {},
   "outputs": [],
   "source": [
    "# import potrzebnych bibliotek\n",
    "\n",
    "from typing import List"
   ]
  },
  {
   "cell_type": "code",
   "execution_count": 16,
   "metadata": {},
   "outputs": [],
   "source": [
    "# Zdefiniowanie funkcji zapytania\n",
    "\n",
    "def ask_chatgpt(messages):\n",
    "    response = client_openai.chat.completions.create(\n",
    "        model = \"gpt-3.5-turbo\",    # próba dla modelu gpt-3.5-turbo\n",
    "        messages=messages\n",
    "    )\n",
    "    return response.choices[0].message.content"
   ]
  },
  {
   "cell_type": "code",
   "execution_count": 17,
   "metadata": {},
   "outputs": [],
   "source": [
    "# Przypisanie roli dla modelu\n",
    "\n",
    "prompt_role = \"\"\"\n",
    "    Jesteś specjalistą Data Science, który prowadzi technicznego bloga. \n",
    "    Twoim zadaniem jest pisanie artykułów w oparciu o podane FAKTY. \\\n",
    "    Przestrzegaj następujących instrukcji: TON, DŁUGOŚĆ i STYL\n",
    "    \"\"\""
   ]
  },
  {
   "cell_type": "code",
   "execution_count": 18,
   "metadata": {},
   "outputs": [],
   "source": [
    "# Zdefiniowanie funkcji generatora\n",
    "\n",
    "def news_generator(\n",
    "        facts: List[str], tone: str, lenght_words: int, style: str\n",
    "):\n",
    "    facts = \", \".join(facts)\n",
    "    prompt_4 = f\"{prompt_role} \\\n",
    "        FAKTY: {facts} \\\n",
    "        TON: {tone} \\\n",
    "        DŁUGOŚĆ: {lenght_words} słów \\\n",
    "        STYL: {style}\"\n",
    "    return ask_chatgpt([{\"role\": \"user\", \"content\": prompt_4}]) "
   ]
  },
  {
   "cell_type": "code",
   "execution_count": 20,
   "metadata": {},
   "outputs": [
    {
     "name": "stdout",
     "output_type": "stream",
     "text": [
      "W zeszłym tygodniu świat Data Science został wzbogacony o nowe źródło wiedzy - książkę \"Python w Data Science\". Jest to pozycja, której nie może zabraknąć w bibliotece żadnego entuzjasty analizy danych. Wydana przez renomowane wydawnictwo Helion, książka ta dostarcza kompleksowego narzędzia do pracy z językiem Python w kontekście naukowej analizy danych.\n",
      "\n",
      "Autorzy książki dokładnie omawiają najważniejsze biblioteki Pythona wykorzystywane w Data Science, takie jak pandas, numpy czy matplotlib, prezentując ich zastosowanie w praktyce. Krok po kroku pokazują, jak budować modele predykcyjne, analizować dane i prezentować wyniki w sposób zrozumiały dla wszystkich czytelników.\n",
      "\n",
      "Jednym z atutów tej pozycji jest również podejście praktyczne autorów do tematu. Dzięki licznie przykładom i ćwiczeniom czytelnik ma możliwość nie tylko zdobyć teoretyczną wiedzę, ale także ją przetestować i zastosować w praktyce. To doskonały sposób na doskonalenie umiejętności w zakresie Data Science.\n",
      "\n",
      "Książka \"Python w Data Science\" z pewnością zyska uznanie wśród specjalistów branży, ale także osób dopiero rozpoczynających swoją przygodę z analizą danych. Jej klarowna struktura, zrozumiałe wyjaśnienia i praktyczne ćwiczenia sprawiają, że nauka staje się przyjemnością.\n",
      "\n",
      "Ogromnie się cieszę, że na rynku pojawiła się taka wartościowa pozycja. Mam nadzieję, że również Wy sięgniecie po książkę \"Python w Data Science\" i pozwolicie sobie na zachwycenie się możliwościami, jakie daje praca z danymi. Pamiętajcie, wiedza nigdy nie jest za duża, a Data Science to niezwykle dynamicznie rozwijająca się dziedzina.\n"
     ]
    }
   ],
   "source": [
    "print(news_generator(\n",
    "    [\"W zeszłym tygodniu wydano książkę związaną z Data Science\",\n",
    "     \"Jej tytuł to Python w Data Science\",\n",
    "     \"Wydawnictwo Helion\",\n",
    "    ], \n",
    "    \"entuzjazm\",\n",
    "    300,\n",
    "    \"wpis na blogu\"))"
   ]
  },
  {
   "cell_type": "code",
   "execution_count": 21,
   "metadata": {},
   "outputs": [
    {
     "name": "stdout",
     "output_type": "stream",
     "text": [
      "W świecie Data Science pojawiła się właśnie aktualizacja biblioteki Pandas! Nowa wersja ma wiele nowych funkcji, które ułatwią analizę danych. Teraz użytkownicy mogą korzystać z jeszcze bardziej zaawansowanych narzędzi do manipulacji i wizualizacji danych. Dodatkowo, poprawiono wydajność biblioteki, co przyspieszy pracę z dużymi zbiorami danych. Dla wszystkich entuzjastów analizy danych to świetna wiadomość! Nie czekaj, już teraz zaktualizuj swoją bibliotekę Pandas i ciesz się jeszcze lepszymi możliwościami analizy danych. Ostatnie zmiany z pewnością ułatwią Ci pracę i przyspieszą proces tworzenia modeli danych.\n"
     ]
    }
   ],
   "source": [
    "print(news_generator(\n",
    "    [\"Pojawiła się aktualizacja biblioteki Pandas\"\n",
    "    ], \n",
    "    \"techniczny\",\n",
    "    100,\n",
    "    \"news na blogu\"))"
   ]
  },
  {
   "cell_type": "markdown",
   "metadata": {},
   "source": [
    "## 4. Test DeepSeek vs GPT o1-mini"
   ]
  },
  {
   "cell_type": "code",
   "execution_count": 1,
   "metadata": {},
   "outputs": [
    {
     "name": "stderr",
     "output_type": "stream",
     "text": [
      "C:\\Users\\rober\\AppData\\Local\\Temp\\ipykernel_30760\\701484417.py:3: DeprecationWarning: Importing display from IPython.core.display is deprecated since IPython 7.14, please import from IPython display\n",
      "  from IPython.core.display import display, HTML\n"
     ]
    }
   ],
   "source": [
    "# Import wymaganych bibliotek\n",
    "\n",
    "from IPython.core.display import display, HTML"
   ]
  },
  {
   "cell_type": "code",
   "execution_count": 2,
   "metadata": {},
   "outputs": [],
   "source": [
    "prompt_5 = \"Czym jest generatywna AI\""
   ]
  },
  {
   "cell_type": "code",
   "execution_count": 7,
   "metadata": {},
   "outputs": [],
   "source": [
    "# OpenAI API\n",
    "\n",
    "response_openai_test = client_openai.chat.completions.create(\n",
    "    model=\"o1-mini\",   # należy wpisać nazwę wybranego modelu\n",
    "    messages=[{\"role\": \"user\", \"content\": prompt_5}]\n",
    ")"
   ]
  },
  {
   "cell_type": "code",
   "execution_count": 8,
   "metadata": {},
   "outputs": [],
   "source": [
    "# Groq API\n",
    "\n",
    "response_groq_test = client_groq.chat.completions.create(\n",
    "    model=\"deepseek-r1-distill-llama-70b\",  # należy wpisać nazwę wybranego modelu\n",
    "    messages=[{\"role\": \"user\", \"content\": prompt_5}]\n",
    ")"
   ]
  },
  {
   "cell_type": "code",
   "execution_count": 9,
   "metadata": {},
   "outputs": [],
   "source": [
    "resp1 = response_openai_test.choices[0].message.content\n",
    "resp2 = response_groq_test.choices[0].message.content"
   ]
  },
  {
   "cell_type": "code",
   "execution_count": 13,
   "metadata": {},
   "outputs": [
    {
     "data": {
      "text/html": [
       "\n",
       "<table border=\"1\" style=\"border-collapse: collapse; width: 100%;\">\n",
       "    <tr>\n",
       "        <th style=\"padding: 10px; text-align: left;\">Model OpenAI</th>\n",
       "        <th style=\"padding: 10px; text-align: left;\">Model Groq</th>\n",
       "    </tr>\n",
       "    <tr>\n",
       "        <td style=\"padding: 10px; text-align: left; white-space: pre-wrap; font-family: Arial, sans-serif;\">\n",
       "            <pre style=\"white-space: pre-wrap; text-align: left;\">Generatywna sztuczna inteligencja (ang. **Generative AI**) to gałąź sztucznej inteligencji, która koncentruje się na tworzeniu nowych treści, takich jak teksty, obrazy, muzyka, wideo czy nawet kod komputerowy, na podstawie dostarczonych danych treningowych. W przeciwieństwie do tradycyjnych systemów AI, które zazwyczaj analizują dane i podejmują decyzje na ich podstawie, generatywna AI potrafi tworzyć oryginalne i często zaskakujące rezultaty.\n",
       "\n",
       "### Jak działa generatywna AI?\n",
       "\n",
       "Generatywna AI wykorzystuje różne modele uczenia maszynowego, z których najpopularniejsze to:\n",
       "\n",
       "1. **Generative Adversarial Networks (GANs)** – Składają się z dwóch sieci neuronowych: generatora, który tworzy nowe dane, oraz dyskryminatora, który ocenia, czy dane są autentyczne (pochodzą z zestawu treningowego) czy wygenerowane. Obie sieci uczą się wspólnie, poprawiając swoje umiejętności w miarę treningu.\n",
       "\n",
       "2. **Transformery** – Modele takie jak GPT (Generative Pre-trained Transformer) od OpenAI, które są trenowane na ogromnych zbiorach danych tekstowych i potrafią generować spójne i kontekstowo odpowiednie teksty na podstawie podanych wskazówek.\n",
       "\n",
       "3. **Autoenkodery** – Modele, które uczą się kompresować i dekompresować dane, co pozwala na generowanie nowych przykładów podobnych do danych treningowych.\n",
       "\n",
       "### Zastosowania generatywnej AI\n",
       "\n",
       "Generatywna AI ma szerokie zastosowania w różnych dziedzinach, takich jak:\n",
       "\n",
       "- **Tworzenie treści**: Pisanie artykułów, opowiadań, scenariuszy czy generowanie odpowiedzi na pytania.\n",
       "- **Sztuka i design**: Tworzenie grafik, ilustracji, projektów mody czy muzyki.\n",
       "- **Gry komputerowe**: Generowanie nowych poziomów, postaci czy narracji.\n",
       "- **Medycyna**: Projektowanie nowych leków poprzez generowanie struktur molekularnych.\n",
       "- **Inżynieria i architektura**: Projektowanie nowych produktów, budynków czy systemów.\n",
       "\n",
       "### Przykłady narzędzi generatywnej AI\n",
       "\n",
       "- **ChatGPT**: Model językowy rozwinięty przez OpenAI, który potrafi prowadzić rozmowy, odpowiadać na pytania i generować teksty na różne tematy.\n",
       "- **DALL-E**: Model generatywny także od OpenAI, który potrafi tworzyć obrazy na podstawie opisów tekstowych.\n",
       "- **DeepArt**: Narzędzie przekształcające zdjęcia w styl różnych artystów.\n",
       "- **RunwayML**: Platforma oferująca narzędzia do tworzenia treści multimedialnych z wykorzystaniem AI.\n",
       "\n",
       "### Wyzwania i etyka\n",
       "\n",
       "Chociaż generatywna AI oferuje wiele możliwości, niesie ze sobą także wyzwania:\n",
       "\n",
       "- **Prawa autorskie**: Tworzenie treści na podstawie istniejących dzieł może rodzić kwestie prawne.\n",
       "- **Dezinformacja**: Generowanie fałszywych informacji, zdjęć czy wideo może być wykorzystywane do manipulacji opinią publiczną.\n",
       "- **Bezpieczeństwo**: Modele mogą być wykorzystywane do tworzenia szkodliwych treści, takich jak deepfake.\n",
       "- **Etyka**: Decyzje dotyczące, jakie treści są generowane i jak są wykorzystywane, muszą być odpowiedzialne i zgodne z wartościami społecznymi.\n",
       "\n",
       "### Podsumowanie\n",
       "\n",
       "Generatywna sztuczna inteligencja to potężne narzędzie, które rewolucjonizuje sposób tworzenia i interakcji z treściami cyfrowymi. Jej zdolność do generowania nowych, kreatywnych rozwiązań otwiera drzwi do innowacji w wielu dziedzinach, jednocześnie wymagając odpowiedzialnego podejścia do jej rozwoju i zastosowania.</pre>\n",
       "        </td>\n",
       "        <td style=\"padding: 10px; text-align: left; white-space: pre-wrap; font-family: Arial, sans-serif;\">\n",
       "            <pre style=\"white-space: pre-wrap; text-align: left;\"><think>\n",
       "Alright, the user is asking \"Czym jest generatywna AI\" which means \"What is generative AI\" in Polish.\n",
       "\n",
       "I should start by explaining that generative AI is a subset of artificial intelligence focused on creating content.\n",
       "\n",
       "It uses machine learning models, especially GANs and transformers, to generate text, images, videos, and more.\n",
       "\n",
       "I'll mention the training process, where models learn from large datasets to understand patterns and generate new content.\n",
       "\n",
       "Examples like DALL-E for images and GPT for text will help illustrate the concept.\n",
       "\n",
       "I should also highlight the applications in areas like art, writing, and even entertainment, showing how versatile generative AI is.\n",
       "\n",
       "Finally, I'll wrap it up by emphasizing the transformative potential of generative AI in various industries.\n",
       "</think>\n",
       "\n",
       "Generatywna AI (ang. Generative AI) to rodzaj sztucznej inteligencji, który koncentruje się na tworzeniu nowych treści, takich jak tekst, obrazy, filmy, muzyka czy inne dane. W odróżnieniu od tradycyjnych modeli AI, które głównie analizują i przewidują dane, generatywne modele AI są projektowane z myślą o tworzeniu nowych, oryginalnych wyjść.\n",
       "\n",
       "Generatywna AI wykorzystuje zaawansowane techniki uczenia maszynowego, takie jak sieci neuronowe, w szczególności model GAN (Generative Adversarial Networks) i model transformer. Te modele są szkolone na ogromnych zbiorach danych, aby nauczyć się generować nowe treści, które są podobne do tych, na których zostały wyszkolone.\n",
       "\n",
       "Przykłady zastosowań generatywnej AI obejmują:\n",
       "\n",
       "- **Tworzenie obrazów i wideo**: np. generowanie portretów, krajobrazów, czy animacji.\n",
       "- **Generowanie tekstu**: np. tworzenie artykułów, opowiadań, czy odpowiedzi na pytania.\n",
       "- **Muzyka i audio**: np. komponowanie muzyki, generowanie głosów, czy modyfikowanie audio.\n",
       "- **Wzornictwo i design**: np. tworzenie nowych projektów produktów, ubrań, czy architektury.\n",
       "\n",
       "Generatywna AI ma ogromny potencjał w różnych dziedzinach, takich jak sztuka, marketing, rozrywka, edukacja, a nawet nauka. Jednocześnie, jej rozwój budzi również dyskusje na temat praw autorskich, etyki i potencjalnego wykorzystania w nielegalnych celach.\n",
       "\n",
       "Warto zauważyć, że generatywna AI jest jednym z najbardziej dynamicznie rozwijających się obszarów sztucznej inteligencji, z nowymi zastosowaniami i możliwościami pojawiającymi się niemal każdego dnia.</pre>\n",
       "        </td>\n",
       "    </tr>\n",
       "</table>\n"
      ],
      "text/plain": [
       "<IPython.core.display.HTML object>"
      ]
     },
     "metadata": {},
     "output_type": "display_data"
    }
   ],
   "source": [
    "html_table = f\"\"\"\n",
    "<table border=\"1\" style=\"border-collapse: collapse; width: 100%;\">\n",
    "    <tr>\n",
    "        <th style=\"padding: 10px; text-align: left;\">Model OpenAI</th>\n",
    "        <th style=\"padding: 10px; text-align: left;\">Model Groq</th>\n",
    "    </tr>\n",
    "    <tr>\n",
    "        <td style=\"padding: 10px; text-align: left; white-space: pre-wrap; font-family: Arial, sans-serif;\">\n",
    "            <pre style=\"white-space: pre-wrap; text-align: left;\">{resp1}</pre>\n",
    "        </td>\n",
    "        <td style=\"padding: 10px; text-align: left; white-space: pre-wrap; font-family: Arial, sans-serif;\">\n",
    "            <pre style=\"white-space: pre-wrap; text-align: left;\">{resp2}</pre>\n",
    "        </td>\n",
    "    </tr>\n",
    "</table>\n",
    "\"\"\"\n",
    "\n",
    "display(HTML(html_table))"
   ]
  },
  {
   "cell_type": "code",
   "execution_count": null,
   "metadata": {},
   "outputs": [],
   "source": []
  }
 ],
 "metadata": {
  "kernelspec": {
   "display_name": "llm_local",
   "language": "python",
   "name": "python3"
  },
  "language_info": {
   "codemirror_mode": {
    "name": "ipython",
    "version": 3
   },
   "file_extension": ".py",
   "mimetype": "text/x-python",
   "name": "python",
   "nbconvert_exporter": "python",
   "pygments_lexer": "ipython3",
   "version": "3.9.21"
  }
 },
 "nbformat": 4,
 "nbformat_minor": 2
}
