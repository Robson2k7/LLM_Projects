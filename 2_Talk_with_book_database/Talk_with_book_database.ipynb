{
 "cells": [
  {
   "cell_type": "markdown",
   "metadata": {},
   "source": [
    "# Rozmawiaj z bazą danych!"
   ]
  },
  {
   "cell_type": "markdown",
   "metadata": {},
   "source": [
    "# Sposób działania:\n",
    "\n",
    "Możesz zadawać różnorodne pytania dotyczące książek w bazie, bazując na ich tytule, autorze, opisie i kategorii. \n",
    "Oto kilka przykładowych typów zapytań, które możesz przetestować:\n",
    "\n",
    "- \"Szukam książki o uczeniu maszynowym.\"\n",
    "- \"Jakie książki polecasz do nauki Excela?\"\n",
    "- \"Czy masz coś na temat cyberbezpieczeństwa?\"\n",
    "- \"Czy masz książki napisane przez 'Eric Matthes'?\"\n",
    "- \"Czy masz książkę '100 sposobów na Excel'?\"\n",
    "- \"Czy jest dostępna książka 'Python dla zaawansowanych'?\"\n",
    "- \"Szukam książki o tym, jak tworzyć wykresy w Excelu.\"\n",
    "- \"O czym jest książka 'Clean Code'?\"\n",
    "- \"Jakie zagadnienia porusza książka 'Python Crash Course'?\"\n"
   ]
  },
  {
   "cell_type": "markdown",
   "metadata": {},
   "source": [
    "# Uwagi:\n",
    "\n",
    "1. Model OpenAI nie skanuje całego pliku XLSX:\n",
    "Model nie przetwarza bezpośrednio całej bazy książek – działa na zasadzie komunikacji z funkcją find_books(), która lokalnie przeszukuje plik Excela przy użyciu pandas i zwraca tylko odpowiednie wyniki.\n",
    "\n",
    "2. Jak działa wyszukiwanie?\n",
    "- Excel jest wczytywany lokalnie przy użyciu pandas, ale OpenAI go nie widzi.\n",
    "- Funkcja find_books() filtruje tylko te książki, które pasują do zapytania użytkownika.\n",
    "- Tylko wybrane książki (np. 5 wyników) są wysyłane do modelu OpenAI.\n",
    "- Model OpenAI nie ma dostępu do całego Excela, widzi tylko te wyniki, które mu przekażę.\n",
    "\n",
    "3. Dlaczego to działa efektywnie?\n",
    "- Nie przekraczam limitu tokenów.\n",
    "- Nie marnuję zasobów na nieistotne dane.\n",
    "- Mogę mieć dużą bazę książek (np. 10000+ rekordów) bez problemów z wydajnością.\n",
    "- Jak wyżej, model działa szybciej, bo przetwarza tylko filtrowane wyniki.\n",
    "\n",
    "4. Co by się stało, gdyby model miał cały plik XLSX?\n",
    "- Limit tokenów szybko zostałby przekroczony (nawet 500 rekordów może zająć za dużo miejsca).\n",
    "- Wyszukiwanie byłoby wolne, bo OpenAI musiałby przeanalizować ogromną ilość danych.\n",
    "- Koszt generacji odpowiedzi byłby wyższy.\n",
    "\n",
    "5. Baza książek jest fikcyjna, została stworzona przy użyciu ChatGPT, model o1"
   ]
  },
  {
   "cell_type": "code",
   "execution_count": 1,
   "metadata": {},
   "outputs": [],
   "source": [
    "# Import potrzebnych bibliotek\n",
    "\n",
    "from openai import OpenAI\n",
    "import json\n",
    "import pandas as pd\n",
    "import openpyxl\n",
    "import re"
   ]
  },
  {
   "cell_type": "code",
   "execution_count": 2,
   "metadata": {},
   "outputs": [],
   "source": [
    "# Inicjalizacja API OpenAI\n",
    "client = OpenAI()"
   ]
  },
  {
   "cell_type": "code",
   "execution_count": 3,
   "metadata": {},
   "outputs": [],
   "source": [
    "# Wczytanie pliku z bazą danych\n",
    "books_df = pd.read_excel(\"lista_ksiazek_IT.xlsx\")  "
   ]
  },
  {
   "cell_type": "code",
   "execution_count": 4,
   "metadata": {},
   "outputs": [
    {
     "data": {
      "text/html": [
       "<div>\n",
       "<style scoped>\n",
       "    .dataframe tbody tr th:only-of-type {\n",
       "        vertical-align: middle;\n",
       "    }\n",
       "\n",
       "    .dataframe tbody tr th {\n",
       "        vertical-align: top;\n",
       "    }\n",
       "\n",
       "    .dataframe thead th {\n",
       "        text-align: right;\n",
       "    }\n",
       "</style>\n",
       "<table border=\"1\" class=\"dataframe\">\n",
       "  <thead>\n",
       "    <tr style=\"text-align: right;\">\n",
       "      <th></th>\n",
       "      <th>Tytuł</th>\n",
       "      <th>Autor</th>\n",
       "      <th>Kategoria</th>\n",
       "      <th>Opis</th>\n",
       "    </tr>\n",
       "  </thead>\n",
       "  <tbody>\n",
       "    <tr>\n",
       "      <th>0</th>\n",
       "      <td>Python dla Początkujących: Podstawy</td>\n",
       "      <td>Adam Kowalski</td>\n",
       "      <td>Programowanie w Pythonie</td>\n",
       "      <td>Podstawowe konstrukcje języka i proste projekt...</td>\n",
       "    </tr>\n",
       "    <tr>\n",
       "      <th>1</th>\n",
       "      <td>Tworzenie Skryptów w Pythonie: Praktyczne Proj...</td>\n",
       "      <td>Marta Nowak</td>\n",
       "      <td>Programowanie w Pythonie</td>\n",
       "      <td>Poznaj narzędzia i biblioteki do automatyzacji...</td>\n",
       "    </tr>\n",
       "    <tr>\n",
       "      <th>2</th>\n",
       "      <td>Zaawansowane Techniki w Pythonie</td>\n",
       "      <td>Piotr Zawadzki</td>\n",
       "      <td>Programowanie w Pythonie</td>\n",
       "      <td>Eksploruj wzorce projektowe, optymalizację i m...</td>\n",
       "    </tr>\n",
       "    <tr>\n",
       "      <th>3</th>\n",
       "      <td>Python w Analizie Danych</td>\n",
       "      <td>Anna Lewandowska</td>\n",
       "      <td>Programowanie w Pythonie</td>\n",
       "      <td>Książka omawia biblioteki numpy, pandas i matp...</td>\n",
       "    </tr>\n",
       "    <tr>\n",
       "      <th>4</th>\n",
       "      <td>Python Web Development: Django &amp; Flask</td>\n",
       "      <td>Maria Nowicka</td>\n",
       "      <td>Programowanie w Pythonie</td>\n",
       "      <td>Praktyczne wprowadzenie do tworzenia stron int...</td>\n",
       "    </tr>\n",
       "    <tr>\n",
       "      <th>5</th>\n",
       "      <td>Sztuczna Inteligencja w Pythonie</td>\n",
       "      <td>Paweł Majchrzak</td>\n",
       "      <td>Programowanie w Pythonie</td>\n",
       "      <td>Wprowadzenie do bibliotek TensorFlow i PyTorch...</td>\n",
       "    </tr>\n",
       "    <tr>\n",
       "      <th>6</th>\n",
       "      <td>Python: Tworzenie API i Mikrousług</td>\n",
       "      <td>Krzysztof Wróblewski</td>\n",
       "      <td>Programowanie w Pythonie</td>\n",
       "      <td>Dowiedz się, jak projektować REST-owe API i sk...</td>\n",
       "    </tr>\n",
       "    <tr>\n",
       "      <th>7</th>\n",
       "      <td>Optymalizacja Kodów w Pythonie</td>\n",
       "      <td>Ewa Adamska</td>\n",
       "      <td>Programowanie w Pythonie</td>\n",
       "      <td>Metody profilowania i usprawniania kodu, aby t...</td>\n",
       "    </tr>\n",
       "    <tr>\n",
       "      <th>8</th>\n",
       "      <td>Java dla Początkujących: Start</td>\n",
       "      <td>Tomasz Wiśniewski</td>\n",
       "      <td>Programowanie w Java</td>\n",
       "      <td>Podstawowe elementy języka, instalacja środowi...</td>\n",
       "    </tr>\n",
       "    <tr>\n",
       "      <th>9</th>\n",
       "      <td>Java: Programowanie Wielowątkowe</td>\n",
       "      <td>Wojciech Wróbel</td>\n",
       "      <td>Programowanie w Java</td>\n",
       "      <td>Jak efektywnie korzystać z wątków i synchroniz...</td>\n",
       "    </tr>\n",
       "  </tbody>\n",
       "</table>\n",
       "</div>"
      ],
      "text/plain": [
       "                                               Tytuł                 Autor  \\\n",
       "0                Python dla Początkujących: Podstawy         Adam Kowalski   \n",
       "1  Tworzenie Skryptów w Pythonie: Praktyczne Proj...           Marta Nowak   \n",
       "2                   Zaawansowane Techniki w Pythonie        Piotr Zawadzki   \n",
       "3                           Python w Analizie Danych      Anna Lewandowska   \n",
       "4             Python Web Development: Django & Flask         Maria Nowicka   \n",
       "5                   Sztuczna Inteligencja w Pythonie       Paweł Majchrzak   \n",
       "6                 Python: Tworzenie API i Mikrousług  Krzysztof Wróblewski   \n",
       "7                     Optymalizacja Kodów w Pythonie           Ewa Adamska   \n",
       "8                     Java dla Początkujących: Start     Tomasz Wiśniewski   \n",
       "9                   Java: Programowanie Wielowątkowe       Wojciech Wróbel   \n",
       "\n",
       "                  Kategoria                                               Opis  \n",
       "0  Programowanie w Pythonie  Podstawowe konstrukcje języka i proste projekt...  \n",
       "1  Programowanie w Pythonie  Poznaj narzędzia i biblioteki do automatyzacji...  \n",
       "2  Programowanie w Pythonie  Eksploruj wzorce projektowe, optymalizację i m...  \n",
       "3  Programowanie w Pythonie  Książka omawia biblioteki numpy, pandas i matp...  \n",
       "4  Programowanie w Pythonie  Praktyczne wprowadzenie do tworzenia stron int...  \n",
       "5  Programowanie w Pythonie  Wprowadzenie do bibliotek TensorFlow i PyTorch...  \n",
       "6  Programowanie w Pythonie  Dowiedz się, jak projektować REST-owe API i sk...  \n",
       "7  Programowanie w Pythonie  Metody profilowania i usprawniania kodu, aby t...  \n",
       "8      Programowanie w Java  Podstawowe elementy języka, instalacja środowi...  \n",
       "9      Programowanie w Java  Jak efektywnie korzystać z wątków i synchroniz...  "
      ]
     },
     "execution_count": 4,
     "metadata": {},
     "output_type": "execute_result"
    }
   ],
   "source": [
    "# Sprawdzenie fragmentu bazy danych\n",
    "books_df.head(10)"
   ]
  },
  {
   "cell_type": "code",
   "execution_count": 5,
   "metadata": {},
   "outputs": [
    {
     "name": "stdout",
     "output_type": "stream",
     "text": [
      "\n",
      "🔹 Odpowiedź AI:\n",
      "Oto kilka ciekawych książek do nauki Pythona, które mogą Cię zainteresować:\n",
      "\n",
      "1. \"Python dla Początkujących: Podstawy\" autorstwa Adama Kowalskiego - książka prezentująca podstawowe konstrukcje języka i proste projekty do nauki Pythona dla początkujących.\n",
      "\n",
      "2. \"Tworzenie Skryptów w Pythonie: Praktyczne Projekty\" autorstwa Marty Nowak - podręcznik, który przedstawia narzędzia i biblioteki do automatyzacji zadań za pomocą prostych skryptów w Pythonie.\n",
      "\n",
      "3. \"Zaawansowane Techniki w Pythonie\" autorstwa Piotra Zawadzkiego - książka, w której można znaleźć informacje o wzorcach projektowych, optymalizacji i metaprogramowaniu w celu tworzenia wydajniejszych aplikacji.\n",
      "\n",
      "4. \"Python w Analizie Danych\" autorstwa Anny Lewandowskiej - poradnik omawiający biblioteki numpy, pandas i matplotlib, prezentujący techniki przetwarzania i wizualizacji danych w Pythonie.\n",
      "\n",
      "5. \"Python Web Development: Django & Flask\" autorstwa Marii Nowickiej - praktyczne wprowadzenie do tworzenia stron internetowych z wykorzystaniem popularnych frameworków Django i Flask.\n",
      "\n",
      "Mam nadzieję, że któreś z tych propozycji będzie dla Ciebie interesująca!\n"
     ]
    }
   ],
   "source": [
    "# Funkcja do wyszukiwania książek na podstawie zapytania użytkownika\n",
    "def find_books(query):\n",
    "    # Szuka w tytule, autorze, kategoriach i opisie\n",
    "    filtered_books = books_df[\n",
    "        books_df.apply(lambda row: query.lower() in row.to_string().lower(), axis=1)\n",
    "    ]\n",
    "\n",
    "    # Zwraca tylko istotne kolumny\n",
    "    results = filtered_books[['Tytuł', 'Autor', 'Kategoria', 'Opis']].to_dict(orient=\"records\")\n",
    "\n",
    "    # Ogranicza do 5 wyników\n",
    "    return results[:5]\n",
    "\n",
    "# Definicja funkcji OpenAI\n",
    "functions = [\n",
    "    {\n",
    "        \"name\": \"find_books\",\n",
    "        \"description\": \"Wyszukiwanie książek według tytułu, autora, kategorii lub opisu\",\n",
    "        \"parameters\": {\n",
    "            \"type\": \"object\",\n",
    "            \"properties\": {\n",
    "                \"query\": {\n",
    "                    \"type\": \"string\",\n",
    "                    \"description\": \"Wyszukiwanie książek np. po tytule, autorze lub kategorii.\"\n",
    "                }\n",
    "            },\n",
    "            \"required\": [\"query\"],\n",
    "        },\n",
    "    }\n",
    "]\n",
    "\n",
    "# Funkcja do interakcji z AI\n",
    "def chat_with_ai(question):\n",
    "    messages = [{\"role\": \"user\", \"content\": question}]\n",
    "\n",
    "    # Wysyłanie zapytania do OpenAI\n",
    "    response = client.chat.completions.create(\n",
    "        model=\"gpt-3.5-turbo\",\n",
    "        messages=messages,\n",
    "        functions=functions\n",
    "    )\n",
    "\n",
    "    # Pobranie odpowiedzi z modelu\n",
    "    response_message = response.choices[0].message\n",
    "    messages.append(response_message)\n",
    "\n",
    "    # Jeśli model wygenerował wywołanie funkcji, obsłuż je\n",
    "    if response_message.function_call:\n",
    "        function_args = json.loads(response_message.function_call.arguments)\n",
    "        books = find_books(function_args.get(\"query\"))\n",
    "\n",
    "        # Dodanie wyniku funkcji do rozmowy\n",
    "        messages.append(\n",
    "            {\"role\": \"function\",\n",
    "             \"name\": \"find_books\",\n",
    "             \"content\": json.dumps(books, ensure_ascii=False)}\n",
    "        )\n",
    "\n",
    "        # Kolejne zapytanie do modelu z wynikami funkcji\n",
    "        response = client.chat.completions.create(\n",
    "            model=\"gpt-3.5-turbo\",\n",
    "            messages=messages,\n",
    "        )\n",
    "\n",
    "        return response.choices[0].message.content\n",
    "    else:\n",
    "        return \"❌ Model nie zwrócił wywołania funkcji.\"\n",
    "\n",
    "# Wywołanie funkcji\n",
    "if __name__ == \"__main__\":\n",
    "    user_question = input(\"Wpisz swoje pytanie: \")\n",
    "    response = chat_with_ai(user_question)\n",
    "    print(\"\\n🔹 Odpowiedź AI:\")\n",
    "    print(response)"
   ]
  },
  {
   "cell_type": "markdown",
   "metadata": {},
   "source": [
    "# Przykłady użycia:"
   ]
  },
  {
   "cell_type": "code",
   "execution_count": 6,
   "metadata": {},
   "outputs": [
    {
     "data": {
      "text/plain": [
       "'Książka \"Unix: Architektura i Programowanie\" autorstwa Roberta Jaworskiego skupia się na procesach, sygnałach, potokach oraz pisaniu aplikacji systemowych w środowisku UNIX. Jest to pozycja z kategorii Systemy Operacyjne, która obejmuje tematy związane z architekturą i programowaniem w systemie UNIX.'"
      ]
     },
     "execution_count": 6,
     "metadata": {},
     "output_type": "execute_result"
    }
   ],
   "source": [
    "chat_with_ai(\"O czym jest książka Unix: Architektura i Programowanie?\")"
   ]
  },
  {
   "cell_type": "code",
   "execution_count": null,
   "metadata": {},
   "outputs": [
    {
     "data": {
      "text/plain": [
       "'Polecam książkę \"Flutter i Dart: Aplikacje Wieloplatformowe\" autorstwa Marty Biernackiej. Książka ta skupia się na wydajnych interfejsach, hot reload oraz tworzeniu animacji w frameworku Flutter od Google.'"
      ]
     },
     "execution_count": 8,
     "metadata": {},
     "output_type": "execute_result"
    }
   ],
   "source": [
    "# Funkcja input do wprowadzenia pytania. W tym wypadku zapytanie dotyczyło polecenia książki o Flutterze\n",
    "chat_with_ai(input(\"Zadaj pytanie: \"))"
   ]
  },
  {
   "cell_type": "code",
   "execution_count": null,
   "metadata": {},
   "outputs": [],
   "source": []
  }
 ],
 "metadata": {
  "kernelspec": {
   "display_name": "llm_local",
   "language": "python",
   "name": "python3"
  },
  "language_info": {
   "codemirror_mode": {
    "name": "ipython",
    "version": 3
   },
   "file_extension": ".py",
   "mimetype": "text/x-python",
   "name": "python",
   "nbconvert_exporter": "python",
   "pygments_lexer": "ipython3",
   "version": "3.9.21"
  }
 },
 "nbformat": 4,
 "nbformat_minor": 2
}
